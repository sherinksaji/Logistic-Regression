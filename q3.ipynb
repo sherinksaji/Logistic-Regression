{
 "cells": [
  {
   "cell_type": "code",
   "execution_count": null,
   "metadata": {},
   "outputs": [],
   "source": [
    "import pandas as pd\n",
    "import numpy as np\n",
    "import math\n",
    "import random\n",
    "import matplotlib.pyplot as plt\n"
   ]
  },
  {
   "cell_type": "code",
   "execution_count": null,
   "metadata": {},
   "outputs": [],
   "source": [
    "pathToTrain=\"HW3_data/HW2_data/train_diabetes.csv\"\n",
    "df_train = pd.read_csv(pathToTrain, header=None, names=[\"y\", \"x1\", \"x2\", \"x3\", \"x4\", \"x5\", \"x6\", \"x7\", \"x8\", \"x9\", \"x10\", \"x11\", \"x12\", \"x13\", \"x14\", \"x15\", \"x16\", \"x17\", \"x18\", \"x19\", \"x20\"])\n",
    "df_train.reset_index(drop=True, inplace=True)  # Reset the index\n",
    "\n",
    "print(df_train)\n"
   ]
  },
  {
   "cell_type": "code",
   "execution_count": null,
   "metadata": {},
   "outputs": [],
   "source": [
    "def linear_combi(theta,x_vector,theta_0):\n",
    "    return np.dot(theta,x_vector)+theta_0"
   ]
  },
  {
   "cell_type": "code",
   "execution_count": null,
   "metadata": {},
   "outputs": [],
   "source": [
    "def log_likelihood_t(true_y,theta,x_vector,theta_0):\n",
    "    s=true_y*linear_combi(theta,x_vector,theta_0)\n",
    "    likelihood_t=(math.exp(s)/(1+math.exp(s)))\n",
    "    return math.log(likelihood_t)\n",
    "    "
   ]
  },
  {
   "cell_type": "code",
   "execution_count": null,
   "metadata": {},
   "outputs": [],
   "source": [
    "def log_likelihood(df,theta,theta_0):\n",
    "  \n",
    "    x_columns=[\"x1\",\"x2\",\"x3\",\"x4\",\"x5\",\"x6\",\"x7\",\"x8\",\"x9\",\"x10\",\"x11\",\"x12\",\"x13\",\"x14\",\"x15\",\"x16\",\"x17\",\"x18\",\"x19\",\"x20\"]\n",
    "\n",
    "   \n",
    "\n",
    "    df[\"log_likelihood\"]=df.apply(lambda row: log_likelihood_t(row[\"y\"],theta,np.array(row[x_columns]),theta_0),axis=1)\n",
    "    return df[\"log_likelihood\"].sum()\n",
    "\n",
    "    \n",
    "    "
   ]
  },
  {
   "cell_type": "code",
   "execution_count": null,
   "metadata": {},
   "outputs": [],
   "source": [
    "def error_t(true_y,theta,x_vector,theta_0):\n",
    "    p_yi_given_xi=log_likelihood_t(true_y,theta,x_vector,theta_0)\n",
    "    return math.log(p_yi_given_xi)"
   ]
  },
  {
   "cell_type": "code",
   "execution_count": null,
   "metadata": {},
   "outputs": [],
   "source": [
    "def delta_error_t_wrt_theta(true_y,theta,x_vector,theta_0):\n",
    "    numerator=-true_y*x_vector\n",
    "    denominator=1+math.exp(true_y*(np.dot(theta,x_vector)+theta_0))\n",
    "    return numerator/denominator"
   ]
  },
  {
   "cell_type": "code",
   "execution_count": null,
   "metadata": {},
   "outputs": [],
   "source": [
    "def delta_error_t_wrt_theta_0(true_y,theta,x_vector,theta_0):\n",
    "    numerator=-true_y\n",
    "    denominator=1+math.exp(true_y*(np.dot(theta,x_vector)+theta_0))\n",
    "    return numerator/denominator"
   ]
  },
  {
   "cell_type": "code",
   "execution_count": null,
   "metadata": {},
   "outputs": [],
   "source": [
    "def weight_update(true_y,theta,x_vector,theta_0,learning_rate):\n",
    "    theta=theta-learning_rate*delta_error_t_wrt_theta(true_y,theta,x_vector,theta_0)\n",
    "    theta_0=theta_0-delta_error_t_wrt_theta_0(true_y,theta,x_vector,theta_0)\n",
    "    return theta,theta_0\n",
    "\n",
    "    "
   ]
  },
  {
   "cell_type": "code",
   "execution_count": null,
   "metadata": {},
   "outputs": [],
   "source": [
    "def one_training_iteration(df,theta,theta_0,k):\n",
    "    #print(df.shape[0])\n",
    "    t=random.randint(0,df.shape[0]-1)\n",
    "    #print(\"t+1:\",t+1)\n",
    "    df_row_list = df.loc[t, :].values.flatten().tolist()\n",
    "    y_t=df_row_list.pop(0)\n",
    "    #print(\"y_t:\",y_t)\n",
    "    if (len(df_row_list)>20):\n",
    "        df_row_list.pop(-1)\n",
    "    x_t=np.array(df_row_list)\n",
    "    #print(\"x_t:\",x_t)\n",
    "    theta,theta_0=weight_update(y_t,theta,x_t,theta_0,k)\n",
    "    #print(\"theta:\",theta)\n",
    "    #print(\"offset:\",offset)\n",
    "    return theta,theta_0"
   ]
  },
  {
   "cell_type": "code",
   "execution_count": null,
   "metadata": {},
   "outputs": [],
   "source": [
    "theta=np.zeros(20)\n",
    "theta_0=0\n",
    "number_of_iterations=10000\n",
    "k=0.1\n",
    "random.seed(1)\n",
    "log_likelihood_ls=[]\n",
    "theta_store=[]\n",
    "plot_x_values=[]\n",
    "count=0\n",
    "\n",
    "while count<number_of_iterations:\n",
    "    theta,theta_0=one_training_iteration(df_train,theta,theta_0,k)   \n",
    "    count+=1 \n",
    "    if (count%100==0):\n",
    "        theta_store.append(theta)\n",
    "\n",
    "        log_likelihood_ls.append(log_likelihood(df_train,theta,theta_0))\n",
    "        \n",
    "        plot_x_values.append(count)\n",
    "\n",
    "print(len(log_likelihood_ls))       \n",
    "print(theta)\n",
    "\n",
    "# Plot y against x\n",
    "plt.plot(plot_x_values, log_likelihood_ls, linestyle='-', color='b')\n",
    "\n",
    "# Add labels and title\n",
    "plt.xlabel('Number of iterations')\n",
    "plt.ylabel('Log likelihood')\n",
    "plt.title('Log likelihood vs. Number of iterations')\n",
    "\n",
    "# Display the plot\n",
    "plt.show()\n",
    "\n",
    "\n"
   ]
  }
 ],
 "metadata": {
  "kernelspec": {
   "display_name": "Python 3",
   "language": "python",
   "name": "python3"
  },
  "language_info": {
   "codemirror_mode": {
    "name": "ipython",
    "version": 3
   },
   "file_extension": ".py",
   "mimetype": "text/x-python",
   "name": "python",
   "nbconvert_exporter": "python",
   "pygments_lexer": "ipython3",
   "version": "3.10.6"
  },
  "orig_nbformat": 4
 },
 "nbformat": 4,
 "nbformat_minor": 2
}
